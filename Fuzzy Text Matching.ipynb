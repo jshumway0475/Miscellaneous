{
 "cells": [
  {
   "cell_type": "code",
   "execution_count": 1,
   "source": [
    "# Load data and prepare dataframes for fuzzy text matching\r\n",
    "import pandas as pd\r\n",
    "import numpy as np\r\n",
    "import fuzzy_pandas as fpd\r\n",
    "\r\n",
    "url = 'https://raw.githubusercontent.com/jshumway0475/Miscellaneous/main/WELL%20NAME%20MATCHING.xlsx'\r\n",
    "\r\n",
    "well_list = pd.read_excel(url, sheet_name = 'FROM WELL LIST')\r\n",
    "los_list = pd.read_excel(url, sheet_name = 'FROM LOS')"
   ],
   "outputs": [],
   "metadata": {}
  },
  {
   "cell_type": "code",
   "execution_count": null,
   "source": [
    "# Code to match up text fields using fuzzy matching, Load columns to match into fuzzymatcher\r\n",
    "matched_results = fpd.fuzzy_merge(los_list, well_list, left_on = ['Well Name'], right_on = ['WELL NAME'], \r\n",
    "                                  method = 'levenshtein', ignore_case = True, keep = 'match', ignore_nonalpha = True)"
   ],
   "outputs": [],
   "metadata": {}
  },
  {
   "cell_type": "code",
   "execution_count": 4,
   "source": [
    "# Score results to help pick the best match\r\n",
    "from fuzzywuzzy import fuzz\r\n",
    "from fuzzywuzzy import process\r\n",
    "\r\n",
    "I = matched_results.index\r\n",
    "K = matched_results.keys()\r\n",
    "Left = K[0]\r\n",
    "Right = K[1]\r\n",
    "\r\n",
    "score_list = []\r\n",
    "for i in I:\r\n",
    "    score = fuzz.ratio(matched_results.loc[i, Left], matched_results.loc[i, Right])\r\n",
    "    score_list.append(score)\r\n",
    "matched_results['Score'] = score_list\r\n",
    "matched_results.to_csv('fuzzy_match.csv')"
   ],
   "outputs": [],
   "metadata": {}
  }
 ],
 "metadata": {
  "kernelspec": {
   "name": "python3",
   "display_name": "Python 3.8.8 64-bit ('base': conda)"
  },
  "language_info": {
   "codemirror_mode": {
    "name": "ipython",
    "version": 3
   },
   "file_extension": ".py",
   "mimetype": "text/x-python",
   "name": "python",
   "nbconvert_exporter": "python",
   "pygments_lexer": "ipython3",
   "version": "3.8.8"
  },
  "interpreter": {
   "hash": "0d3320a2410d5679c191bc2295f072288b4e5c4c731fe80c4380901918512b12"
  }
 },
 "nbformat": 4,
 "nbformat_minor": 2
}